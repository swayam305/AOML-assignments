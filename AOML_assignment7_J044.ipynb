{
  "nbformat": 4,
  "nbformat_minor": 0,
  "metadata": {
    "colab": {
      "provenance": []
    },
    "kernelspec": {
      "name": "python3",
      "display_name": "Python 3"
    },
    "language_info": {
      "name": "python"
    }
  },
  "cells": [
    {
      "cell_type": "code",
      "execution_count": 1,
      "metadata": {
        "colab": {
          "base_uri": "https://localhost:8080/"
        },
        "id": "LGqdyqDqXMkS",
        "outputId": "421cbfac-7821-4de7-9017-4222c4386fd7"
      },
      "outputs": [
        {
          "output_type": "stream",
          "name": "stdout",
          "text": [
            "Downloading data from https://storage.googleapis.com/tensorflow/tf-keras-datasets/train-labels-idx1-ubyte.gz\n",
            "\u001b[1m29515/29515\u001b[0m \u001b[32m━━━━━━━━━━━━━━━━━━━━\u001b[0m\u001b[37m\u001b[0m \u001b[1m0s\u001b[0m 0us/step\n",
            "Downloading data from https://storage.googleapis.com/tensorflow/tf-keras-datasets/train-images-idx3-ubyte.gz\n",
            "\u001b[1m26421880/26421880\u001b[0m \u001b[32m━━━━━━━━━━━━━━━━━━━━\u001b[0m\u001b[37m\u001b[0m \u001b[1m2s\u001b[0m 0us/step\n",
            "Downloading data from https://storage.googleapis.com/tensorflow/tf-keras-datasets/t10k-labels-idx1-ubyte.gz\n",
            "\u001b[1m5148/5148\u001b[0m \u001b[32m━━━━━━━━━━━━━━━━━━━━\u001b[0m\u001b[37m\u001b[0m \u001b[1m0s\u001b[0m 0us/step\n",
            "Downloading data from https://storage.googleapis.com/tensorflow/tf-keras-datasets/t10k-images-idx3-ubyte.gz\n",
            "\u001b[1m4422102/4422102\u001b[0m \u001b[32m━━━━━━━━━━━━━━━━━━━━\u001b[0m\u001b[37m\u001b[0m \u001b[1m1s\u001b[0m 0us/step\n"
          ]
        },
        {
          "output_type": "stream",
          "name": "stderr",
          "text": [
            "/usr/local/lib/python3.11/dist-packages/keras/src/layers/core/dense.py:87: UserWarning: Do not pass an `input_shape`/`input_dim` argument to a layer. When using Sequential models, prefer using an `Input(shape)` object as the first layer in the model instead.\n",
            "  super().__init__(activity_regularizer=activity_regularizer, **kwargs)\n"
          ]
        },
        {
          "output_type": "stream",
          "name": "stdout",
          "text": [
            "\u001b[1m313/313\u001b[0m \u001b[32m━━━━━━━━━━━━━━━━━━━━\u001b[0m\u001b[37m\u001b[0m \u001b[1m1s\u001b[0m 4ms/step\n"
          ]
        },
        {
          "output_type": "stream",
          "name": "stderr",
          "text": [
            "/usr/local/lib/python3.11/dist-packages/keras/src/layers/core/dense.py:87: UserWarning: Do not pass an `input_shape`/`input_dim` argument to a layer. When using Sequential models, prefer using an `Input(shape)` object as the first layer in the model instead.\n",
            "  super().__init__(activity_regularizer=activity_regularizer, **kwargs)\n"
          ]
        },
        {
          "output_type": "stream",
          "name": "stdout",
          "text": [
            "\u001b[1m313/313\u001b[0m \u001b[32m━━━━━━━━━━━━━━━━━━━━\u001b[0m\u001b[37m\u001b[0m \u001b[1m0s\u001b[0m 1ms/step\n",
            "   Baseline Accuracy  PCA Accuracy  Baseline Train Time (s)  \\\n",
            "0             0.8874        0.8846                31.588763   \n",
            "\n",
            "   PCA Train Time (s)  Baseline Infer Time (s)  PCA Infer Time (s)  \\\n",
            "0           37.030099                   2.7616            0.637025   \n",
            "\n",
            "   Optimal n_components  \n",
            "0                   256  \n"
          ]
        }
      ],
      "source": [
        "import time\n",
        "import numpy as np\n",
        "import tensorflow as tf\n",
        "from tensorflow.keras.models import Sequential\n",
        "from tensorflow.keras.layers import Dense\n",
        "from tensorflow.keras.utils import to_categorical\n",
        "from sklearn.decomposition import PCA\n",
        "from sklearn.preprocessing import StandardScaler\n",
        "from sklearn.metrics import accuracy_score\n",
        "import pandas as pd\n",
        "\n",
        "(x_train, y_train), (x_test, y_test) = tf.keras.datasets.fashion_mnist.load_data()\n",
        "\n",
        "x_train = x_train / 255.0\n",
        "x_test = x_test / 255.0\n",
        "\n",
        "x_train_flat = x_train.reshape(x_train.shape[0], -1)\n",
        "x_test_flat = x_test.reshape(x_test.shape[0], -1)\n",
        "\n",
        "y_train_onehot = to_categorical(y_train, 10)\n",
        "y_test_onehot = to_categorical(y_test, 10)\n",
        "\n",
        "def train_and_evaluate_model(x_train, y_train, x_test, y_test, input_dim):\n",
        "    model = Sequential([\n",
        "        Dense(128, activation='relu', input_shape=(input_dim,)),\n",
        "        Dense(64, activation='relu'),\n",
        "        Dense(10, activation='softmax')\n",
        "    ])\n",
        "\n",
        "    model.compile(optimizer='adam', loss='categorical_crossentropy', metrics=['accuracy'])\n",
        "\n",
        "    start_time = time.time()\n",
        "    model.fit(x_train, y_train, epochs=10, batch_size=128, verbose=0)\n",
        "    train_time = time.time() - start_time\n",
        "\n",
        "    start_time = time.time()\n",
        "    y_pred = model.predict(x_test)\n",
        "    infer_time = time.time() - start_time\n",
        "\n",
        "    test_acc = accuracy_score(np.argmax(y_test, axis=1), np.argmax(y_pred, axis=1))\n",
        "\n",
        "    return test_acc, train_time, infer_time\n",
        "\n",
        "baseline_acc, baseline_train_time, baseline_infer_time = train_and_evaluate_model(\n",
        "    x_train_flat, y_train_onehot, x_test_flat, y_test_onehot, input_dim=784\n",
        ")\n",
        "\n",
        "scaler = StandardScaler()\n",
        "x_train_scaled = scaler.fit_transform(x_train_flat)\n",
        "x_test_scaled = scaler.transform(x_test_flat)\n",
        "\n",
        "pca = PCA()\n",
        "pca.fit(x_train_scaled)\n",
        "\n",
        "explained_variance = np.cumsum(pca.explained_variance_ratio_)\n",
        "n_components = np.argmax(explained_variance >= 0.95) + 1\n",
        "\n",
        "pca = PCA(n_components=n_components)\n",
        "x_train_pca = pca.fit_transform(x_train_scaled)\n",
        "x_test_pca = pca.transform(x_test_scaled)\n",
        "\n",
        "pca_acc, pca_train_time, pca_infer_time = train_and_evaluate_model(\n",
        "    x_train_pca, y_train_onehot, x_test_pca, y_test_onehot, input_dim=n_components\n",
        ")\n",
        "\n",
        "results = {\n",
        "    \"Baseline Accuracy\": baseline_acc,\n",
        "    \"PCA Accuracy\": pca_acc,\n",
        "    \"Baseline Train Time (s)\": baseline_train_time,\n",
        "    \"PCA Train Time (s)\": pca_train_time,\n",
        "    \"Baseline Infer Time (s)\": baseline_infer_time,\n",
        "    \"PCA Infer Time (s)\": pca_infer_time,\n",
        "    \"Optimal n_components\": n_components\n",
        "}\n",
        "\n",
        "df_results = pd.DataFrame([results])\n",
        "print(df_results)\n"
      ]
    },
    {
      "cell_type": "code",
      "source": [
        "import pandas as pd\n",
        "import numpy as np\n",
        "import time\n",
        "from sklearn.impute import SimpleImputer\n",
        "from sklearn.preprocessing import LabelEncoder\n",
        "from sklearn.feature_selection import VarianceThreshold, SequentialFeatureSelector\n",
        "from sklearn.linear_model import LinearRegression\n",
        "from sklearn.ensemble import RandomForestRegressor\n",
        "from sklearn.feature_selection import RFE\n",
        "from sklearn.model_selection import train_test_split\n",
        "from sklearn.metrics import mean_squared_error\n",
        "\n",
        "file_path = \"/content/train (2).csv\"\n",
        "df = pd.read_csv(file_path)\n",
        "\n",
        "df.drop(columns=['uid'], inplace=True)\n",
        "\n",
        "imputer = SimpleImputer(strategy='median')\n",
        "df.iloc[:, 1:] = imputer.fit_transform(df.iloc[:, 1:])\n",
        "\n",
        "label_encoder = LabelEncoder()\n",
        "df['day'] = label_encoder.fit_transform(df['day'])\n",
        "\n",
        "X = df.drop(columns=[\"output_electricity_generation\"])\n",
        "y = df[\"output_electricity_generation\"]\n",
        "\n",
        "var_thresh = VarianceThreshold(threshold=0.01)\n",
        "X_var = var_thresh.fit_transform(X)\n",
        "selected_features_var = X.columns[var_thresh.get_support()]\n",
        "\n",
        "corr_matrix = X.corr().abs()\n",
        "upper = corr_matrix.where(np.triu(np.ones(corr_matrix.shape), k=1).astype(bool))\n",
        "high_corr_features = [column for column in upper.columns if any(upper[column] > 0.9)]\n",
        "X_corr = X.drop(columns=high_corr_features)\n",
        "selected_features_corr = X_corr.columns\n",
        "\n",
        "model = LinearRegression()\n",
        "sfs = SequentialFeatureSelector(model, n_features_to_select=8, direction=\"forward\", cv=5)\n",
        "sfs.fit(X, y)\n",
        "selected_features_greedy = X.columns[sfs.get_support()]\n",
        "\n",
        "rf = RandomForestRegressor(n_estimators=100, random_state=42)\n",
        "rf.fit(X, y)\n",
        "feature_importances = pd.Series(rf.feature_importances_, index=X.columns)\n",
        "selected_features_model = feature_importances.nlargest(8).index\n",
        "\n",
        "rfe = RFE(estimator=LinearRegression(), n_features_to_select=8)\n",
        "rfe.fit(X, y)\n",
        "selected_features_rfe = X.columns[rfe.support_]\n",
        "\n",
        "selected_features = {\n",
        "    \"Variance Thresholding\": list(selected_features_var),\n",
        "    \"Correlation Filtering\": list(selected_features_corr),\n",
        "    \"Greedy Selection\": list(selected_features_greedy),\n",
        "    \"Model-Based Importance\": list(selected_features_model),\n",
        "    \"Recursive Feature Elimination\": list(selected_features_rfe),\n",
        "}\n",
        "\n",
        "X_train, X_test, y_train, y_test = train_test_split(X, y, test_size=0.2, random_state=42)\n",
        "model = LinearRegression()\n",
        "start_time = time.time()\n",
        "model.fit(X_train, y_train)\n",
        "baseline_train_time = time.time() - start_time\n",
        "y_pred = model.predict(X_test)\n",
        "baseline_mse = mean_squared_error(y_test, y_pred)\n",
        "\n",
        "results = {}\n",
        "for method, features in selected_features.items():\n",
        "    X_train_fs, X_test_fs = X_train[features], X_test[features]\n",
        "\n",
        "    start_time = time.time()\n",
        "    model.fit(X_train_fs, y_train)\n",
        "    train_time = time.time() - start_time\n",
        "\n",
        "    y_pred_fs = model.predict(X_test_fs)\n",
        "    mse = mean_squared_error(y_test, y_pred_fs)\n",
        "\n",
        "    results[method] = {\n",
        "        \"MSE\": mse,\n",
        "        \"Train Time (s)\": train_time\n",
        "    }\n",
        "\n",
        "results[\"Baseline\"] = {\n",
        "    \"MSE\": baseline_mse,\n",
        "    \"Train Time (s)\": baseline_train_time\n",
        "}\n",
        "\n",
        "df_results = pd.DataFrame(results).T\n",
        "print(df_results)"
      ],
      "metadata": {
        "colab": {
          "base_uri": "https://localhost:8080/"
        },
        "id": "gABbntrDXNhP",
        "outputId": "ad038086-218a-4b4c-ec0f-72a923fe43cf"
      },
      "execution_count": 2,
      "outputs": [
        {
          "output_type": "stream",
          "name": "stdout",
          "text": [
            "                                       MSE  Train Time (s)\n",
            "Variance Thresholding          2046.952564        0.014489\n",
            "Correlation Filtering          2034.435544        0.013996\n",
            "Greedy Selection               2113.598081        0.010629\n",
            "Model-Based Importance         3274.899729        0.009519\n",
            "Recursive Feature Elimination  2146.150825        0.009847\n",
            "Baseline                       2034.435544        0.015322\n"
          ]
        }
      ]
    },
    {
      "cell_type": "code",
      "source": [
        "import numpy as np\n",
        "import pandas as pd\n",
        "import matplotlib.pyplot as plt\n",
        "from sklearn.cluster import KMeans\n",
        "from sklearn.datasets import load_iris\n",
        "from sklearn.preprocessing import StandardScaler\n",
        "from sklearn.metrics import accuracy_score\n",
        "from scipy.stats import mode\n",
        "\n",
        "iris = load_iris()\n",
        "X = iris.data\n",
        "y_true = iris.target\n",
        "\n",
        "scaler = StandardScaler()\n",
        "X_scaled = scaler.fit_transform(X)\n",
        "\n",
        "inertia = []\n",
        "k_values = range(1, 11)\n",
        "\n",
        "for k in k_values:\n",
        "    kmeans = KMeans(n_clusters=k, random_state=42, n_init=10)\n",
        "    kmeans.fit(X_scaled)\n",
        "    inertia.append(kmeans.inertia_)\n",
        "\n",
        "plt.figure(figsize=(8, 5))\n",
        "plt.plot(k_values, inertia, marker='o', linestyle='--')\n",
        "plt.xlabel('Number of Clusters (k)')\n",
        "plt.ylabel('Inertia')\n",
        "plt.title('Elbow Method for Optimal k')\n",
        "plt.grid(True)\n",
        "plt.show()"
      ],
      "metadata": {
        "colab": {
          "base_uri": "https://localhost:8080/",
          "height": 487
        },
        "id": "F9qqQCYHXg__",
        "outputId": "bfaeb269-bee9-45fe-9a57-3a2e385780ba"
      },
      "execution_count": 3,
      "outputs": [
        {
          "output_type": "display_data",
          "data": {
            "text/plain": [
              "<Figure size 800x500 with 1 Axes>"
            ],
            "image/png": "[encoded data removed]"
          },
          "metadata": {}
        }
      ]
    },
    {
      "cell_type": "code",
      "source": [
        "optimal_k = 3\n",
        "kmeans = KMeans(n_clusters=optimal_k, random_state=42, n_init=10)\n",
        "y_kmeans = kmeans.fit_predict(X_scaled)\n",
        "\n",
        "def get_cluster_accuracy(y_true, y_kmeans, k):\n",
        "    labels = np.zeros_like(y_kmeans)\n",
        "    for i in range(k):\n",
        "        mask = (y_kmeans == i)\n",
        "        labels[mask] = mode(y_true[mask])[0]\n",
        "    return accuracy_score(y_true, labels)\n",
        "\n",
        "kmeans_accuracy = get_cluster_accuracy(y_true, y_kmeans, optimal_k)\n",
        "\n",
        "print(\"Optimal Number of Clusters (k):\", optimal_k)\n",
        "print(\"K-Means Clustering Accuracy:\", kmeans_accuracy)\n",
        ""
      ],
      "metadata": {
        "colab": {
          "base_uri": "https://localhost:8080/"
        },
        "id": "l0bodZ0ZXkZs",
        "outputId": "0a96dea9-9886-4ad4-ab7d-81af09418469"
      },
      "execution_count": 4,
      "outputs": [
        {
          "output_type": "stream",
          "name": "stdout",
          "text": [
            "Optimal Number of Clusters (k): 3\n",
            "K-Means Clustering Accuracy: 0.8333333333333334\n"
          ]
        }
      ]
    }
  ]
}