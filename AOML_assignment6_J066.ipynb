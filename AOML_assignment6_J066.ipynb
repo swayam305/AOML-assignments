{
  "nbformat": 4,
  "nbformat_minor": 0,
  "metadata": {
    "colab": {
      "provenance": []
    },
    "kernelspec": {
      "name": "python3",
      "display_name": "Python 3"
    },
    "language_info": {
      "name": "python"
    }
  },
  "cells": [
    {
      "cell_type": "code",
      "execution_count": 1,
      "metadata": {
        "colab": {
          "base_uri": "https://localhost:8080/"
        },
        "id": "fwmD8k3f2iIW",
        "outputId": "6d600487-0a70-4260-abd2-866eb95376e2"
      },
      "outputs": [
        {
          "output_type": "stream",
          "name": "stdout",
          "text": [
            "Downloading data from https://storage.googleapis.com/tensorflow/tf-keras-datasets/train-labels-idx1-ubyte.gz\n",
            "\u001b[1m29515/29515\u001b[0m \u001b[32m━━━━━━━━━━━━━━━━━━━━\u001b[0m\u001b[37m\u001b[0m \u001b[1m0s\u001b[0m 0us/step\n",
            "Downloading data from https://storage.googleapis.com/tensorflow/tf-keras-datasets/train-images-idx3-ubyte.gz\n",
            "\u001b[1m26421880/26421880\u001b[0m \u001b[32m━━━━━━━━━━━━━━━━━━━━\u001b[0m\u001b[37m\u001b[0m \u001b[1m0s\u001b[0m 0us/step\n",
            "Downloading data from https://storage.googleapis.com/tensorflow/tf-keras-datasets/t10k-labels-idx1-ubyte.gz\n",
            "\u001b[1m5148/5148\u001b[0m \u001b[32m━━━━━━━━━━━━━━━━━━━━\u001b[0m\u001b[37m\u001b[0m \u001b[1m0s\u001b[0m 2us/step\n",
            "Downloading data from https://storage.googleapis.com/tensorflow/tf-keras-datasets/t10k-images-idx3-ubyte.gz\n",
            "\u001b[1m4422102/4422102\u001b[0m \u001b[32m━━━━━━━━━━━━━━━━━━━━\u001b[0m\u001b[37m\u001b[0m \u001b[1m0s\u001b[0m 0us/step\n",
            "Fitting 3 folds for each of 4 candidates, totalling 12 fits\n",
            "Best C for linear kernel: {'C': 0.1}\n",
            "Accuracy (Linear Kernel): 0.841\n",
            "Fitting 3 folds for each of 12 candidates, totalling 36 fits\n",
            "Best params for polynomial kernel: {'C': 10, 'degree': 2}\n",
            "Accuracy (Polynomial Kernel): 0.847\n",
            "Fitting 3 folds for each of 20 candidates, totalling 60 fits\n",
            "Best params for RBF kernel: {'C': 10, 'gamma': 0.01}\n",
            "Accuracy (RBF Kernel): 0.875\n"
          ]
        }
      ],
      "source": [
        "import numpy as np\n",
        "import matplotlib.pyplot as plt\n",
        "from sklearn.svm import SVC\n",
        "from sklearn.model_selection import train_test_split, GridSearchCV\n",
        "from sklearn.metrics import accuracy_score\n",
        "from tensorflow.keras.datasets import fashion_mnist\n",
        "\n",
        "(X_train, y_train), (X_test, y_test) = fashion_mnist.load_data()\n",
        "X_train = X_train.reshape(X_train.shape[0], -1) / 255.0\n",
        "X_test = X_test.reshape(X_test.shape[0], -1) / 255.0\n",
        "\n",
        "subset_size = 0.1\n",
        "X_train_sub, _, y_train_sub, _ = train_test_split(X_train, y_train, train_size=subset_size, stratify=y_train, random_state=42)\n",
        "X_test_sub, _, y_test_sub, _ = train_test_split(X_test, y_test, train_size=subset_size, stratify=y_test, random_state=42)\n",
        "\n",
        "param_grid_linear = {'C': [0.1, 1, 10, 100]}\n",
        "svm_linear = GridSearchCV(SVC(kernel='linear'), param_grid_linear, cv=3, n_jobs=-1, verbose=2)\n",
        "svm_linear.fit(X_train_sub, y_train_sub)\n",
        "print(\"Best C for linear kernel:\", svm_linear.best_params_)\n",
        "y_pred_linear = svm_linear.best_estimator_.predict(X_test_sub)\n",
        "print(\"Accuracy (Linear Kernel):\", accuracy_score(y_test_sub, y_pred_linear))\n",
        "\n",
        "param_grid_poly = {'C': [0.1, 1, 10], 'degree': [2, 3, 4, 5]}\n",
        "svm_poly = GridSearchCV(SVC(kernel='poly'), param_grid_poly, cv=3, n_jobs=-1, verbose=2)\n",
        "svm_poly.fit(X_train_sub, y_train_sub)\n",
        "print(\"Best params for polynomial kernel:\", svm_poly.best_params_)\n",
        "y_pred_poly = svm_poly.best_estimator_.predict(X_test_sub)\n",
        "print(\"Accuracy (Polynomial Kernel):\", accuracy_score(y_test_sub, y_pred_poly))\n",
        "\n",
        "param_grid_rbf = {'C': [0.1, 1, 10, 100], 'gamma': ['scale', 'auto', 0.01, 0.1, 1]}\n",
        "svm_rbf = GridSearchCV(SVC(kernel='rbf'), param_grid_rbf, cv=3, n_jobs=-1, verbose=2)\n",
        "svm_rbf.fit(X_train_sub, y_train_sub)\n",
        "print(\"Best params for RBF kernel:\", svm_rbf.best_params_)\n",
        "y_pred_rbf = svm_rbf.best_estimator_.predict(X_test_sub)\n",
        "print(\"Accuracy (RBF Kernel):\", accuracy_score(y_test_sub, y_pred_rbf))"
      ]
    }
  ]
}